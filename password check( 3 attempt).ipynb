{
 "cells": [
  {
   "cell_type": "code",
   "execution_count": 1,
   "id": "a860a7d4",
   "metadata": {},
   "outputs": [
    {
     "name": "stdout",
     "output_type": "stream",
     "text": [
      "Inputed password the password(type h/H for hint)(3no of attempts left)1\n",
      "wrong pass\n",
      "Inputed password the password(type h/H for hint)(2no of attempts left)h\n",
      "pas123\n",
      "Inputed password the password(type h/H for hint)(2no of attempts left)H\n",
      "pas123\n",
      "Inputed password the password(type h/H for hint)(2no of attempts left)pass\n",
      "wrong pass\n",
      "Inputed password the password(type h/H for hint)(1no of attempts left)passweord\n",
      "wrong pass\n"
     ]
    }
   ],
   "source": [
    "\n",
    "#only password seyting by user is missing\n",
    "\n",
    "password = 'Password123'\n",
    "i=0\n",
    "while i<3:\n",
    "    in_pass = input('Inputed password the password(type h/H for hint)(' + str(3-i) + 'no of attempts left)')\n",
    "    in_pass = str(in_pass)\n",
    "    if in_pass == 'h' or in_pass == 'H':\n",
    "        print(\"pas123\")\n",
    "        continue\n",
    "    elif password == in_pass:\n",
    "        print('Correct pass')\n",
    "        break\n",
    "    else:\n",
    "        print('wrong pass')\n",
    "        i+=1"
   ]
  },
  {
   "cell_type": "code",
   "execution_count": 3,
   "id": "08d04d45",
   "metadata": {},
   "outputs": [
    {
     "name": "stdout",
     "output_type": "stream",
     "text": [
      "Input password ( h/H-hint )( 3 attempts left)exit\n",
      "programm terminated\n"
     ]
    }
   ],
   "source": [
    "\n",
    "#same program as above but smaller\n",
    "\n",
    "password = 'Password123' \n",
    "in_pass = '0'\n",
    "i=0\n",
    "while i<3 and in_pass!=password:\n",
    "    in_pass = input('Input password ( h/H-hint )( ' + str(3-i) + ' attempts left)')\n",
    "    if in_pass=='h' or in_pass=='H':\n",
    "        print(\"pas123\")\n",
    "    elif in_pass=='exit':\n",
    "        i=30\n",
    "        break\n",
    "    else:\n",
    "        i+=1\n",
    "if i==3:\n",
    "    print('attempts limit exceded')\n",
    "elif i==30:\n",
    "    print('programm terminated')\n",
    "else:\n",
    "    print('correct password')"
   ]
  },
  {
   "cell_type": "code",
   "execution_count": null,
   "id": "d01c4393",
   "metadata": {},
   "outputs": [],
   "source": []
  }
 ],
 "metadata": {
  "kernelspec": {
   "display_name": "Python 3 (ipykernel)",
   "language": "python",
   "name": "python3"
  },
  "language_info": {
   "codemirror_mode": {
    "name": "ipython",
    "version": 3
   },
   "file_extension": ".py",
   "mimetype": "text/x-python",
   "name": "python",
   "nbconvert_exporter": "python",
   "pygments_lexer": "ipython3",
   "version": "3.9.12"
  }
 },
 "nbformat": 4,
 "nbformat_minor": 5
}
